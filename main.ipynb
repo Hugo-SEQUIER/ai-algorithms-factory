{
 "cells": [
  {
   "cell_type": "code",
   "execution_count": 1,
   "metadata": {},
   "outputs": [],
   "source": [
    "from module.roll import Roll\n",
    "from module.biscuit import Biscuit\n",
    "from module.genetic_algo import GeneticAlgorithm\n",
    "import pandas as pd\n",
    "from module.greedy_search import Greedy_Best_First_Search"
   ]
  },
  {
   "cell_type": "code",
   "execution_count": 2,
   "metadata": {},
   "outputs": [],
   "source": [
    "df_defect = pd.read_csv(\"./data/defects.csv\")\n",
    "df_defect['x'] = df_defect['x'].astype(int)"
   ]
  },
  {
   "cell_type": "code",
   "execution_count": 3,
   "metadata": {},
   "outputs": [],
   "source": [
    "roll = Roll(df_defect)"
   ]
  },
  {
   "cell_type": "code",
   "execution_count": 4,
   "metadata": {},
   "outputs": [],
   "source": [
    "b_0 = Biscuit(0,4,6,{'a' : 4, 'b': 2, 'c': 3})\n",
    "b_1 = Biscuit(1,8,12,{'a' : 5, 'b': 4, 'c': 4})\n",
    "b_2 = Biscuit(2,2,1,{'a' : 1, 'b': 2, 'c': 1})\n",
    "b_3 = Biscuit(3,5,8,{'a' : 2, 'b': 3, 'c': 2})\n",
    "list_biscuit = [b_3, b_0, b_1, b_2]"
   ]
  },
  {
   "cell_type": "code",
   "execution_count": 5,
   "metadata": {},
   "outputs": [
    {
     "name": "stdout",
     "output_type": "stream",
     "text": [
      "Can't add biscuit\n",
      "Can't add biscuit\n",
      "Can't add biscuit\n",
      "Can't add biscuit\n",
      "Can't add biscuit\n",
      "Can't add biscuit\n",
      "Maximum total value: 790\n"
     ]
    }
   ],
   "source": [
    "# Assuming 'biscuits' is a list of Biscuit objects, sorted by their value per unit length\n",
    "\n",
    "greedy_search = Greedy_Best_First_Search()\n",
    "max_value = greedy_search.search(roll, list_biscuit)\n",
    "print(\"Maximum total value:\", max_value)"
   ]
  },
  {
   "cell_type": "code",
   "execution_count": 6,
   "metadata": {},
   "outputs": [
    {
     "name": "stdout",
     "output_type": "stream",
     "text": [
      "Can't add biscuit\n",
      "Can't add biscuit\n",
      "Can't add biscuit\n",
      "Can't add biscuit\n",
      "Can't add biscuit\n",
      "Can't add biscuit\n",
      "Can't add biscuit\n",
      "Can't add biscuit\n",
      "Can't add biscuit\n",
      "Can't add biscuit\n",
      "Can't add biscuit\n",
      "Can't add biscuit\n",
      "Can't add biscuit\n",
      "Can't add biscuit\n",
      "Can't add biscuit\n",
      "Can't add biscuit\n",
      "Can't add biscuit\n",
      "Can't add biscuit\n",
      "Can't add biscuit\n",
      "Can't add biscuit\n",
      "Can't add biscuit\n",
      "Can't add biscuit\n",
      "Can't add biscuit\n",
      "Can't add biscuit\n",
      "Can't add biscuit\n",
      "Can't add biscuit\n",
      "Can't add biscuit\n",
      "Can't add biscuit\n",
      "Can't add biscuit\n",
      "Can't add biscuit\n",
      "Can't add biscuit\n",
      "Can't add biscuit\n",
      "Can't add biscuit\n",
      "Can't add biscuit\n",
      "Can't add biscuit\n",
      "Can't add biscuit\n",
      "Can't add biscuit\n",
      "Can't add biscuit\n",
      "Can't add biscuit\n",
      "Can't add biscuit\n",
      "Can't add biscuit\n",
      "Can't add biscuit\n",
      "Can't add biscuit\n",
      "Can't add biscuit\n",
      "Can't add biscuit\n",
      "Can't add biscuit\n",
      "Can't add biscuit\n",
      "Can't add biscuit\n",
      "Can't add biscuit\n",
      "Can't add biscuit\n",
      "Can't add biscuit\n",
      "Can't add biscuit\n",
      "Can't add biscuit\n",
      "Can't add biscuit\n",
      "Can't add biscuit\n",
      "Can't add biscuit\n",
      "Can't add biscuit\n",
      "Can't add biscuit\n",
      "Can't add biscuit\n",
      "Can't add biscuit\n",
      "Can't add biscuit\n",
      "Can't add biscuit\n",
      "Can't add biscuit\n",
      "Can't add biscuit\n",
      "Can't add biscuit\n",
      "Can't add biscuit\n",
      "Can't add biscuit\n",
      "Can't add biscuit\n",
      "Can't add biscuit\n",
      "Can't add biscuit\n",
      "Can't add biscuit\n",
      "Can't add biscuit\n",
      "Can't add biscuit\n",
      "Can't add biscuit\n",
      "Can't add biscuit\n",
      "Can't add biscuit\n",
      "Can't add biscuit\n",
      "Can't add biscuit\n",
      "Can't add biscuit\n",
      "Can't add biscuit\n",
      "Can't add biscuit\n",
      "Can't add biscuit\n",
      "Can't add biscuit\n",
      "Can't add biscuit\n",
      "Can't add biscuit\n",
      "Can't add biscuit\n",
      "Can't add biscuit\n",
      "Can't add biscuit\n",
      "Can't add biscuit\n",
      "Can't add biscuit\n",
      "Can't add biscuit\n",
      "Can't add biscuit\n",
      "Can't add biscuit\n",
      "Can't add biscuit\n",
      "Can't add biscuit\n",
      "Can't add biscuit\n",
      "Can't add biscuit\n",
      "Can't add biscuit\n",
      "Can't add biscuit\n",
      "Can't add biscuit\n",
      "Can't add biscuit\n",
      "Can't add biscuit\n",
      "Can't add biscuit\n",
      "Can't add biscuit\n",
      "Best solution: [(0, None), (1, <module.biscuit.Biscuit object at 0x000001C73F629700>), (5, <module.biscuit.Biscuit object at 0x000001C73F6297C0>), (7, <module.biscuit.Biscuit object at 0x000001C73F629700>), (12, <module.biscuit.Biscuit object at 0x000001C73F629700>), (16, <module.biscuit.Biscuit object at 0x000001C73F629760>), (18, <module.biscuit.Biscuit object at 0x000001C73F629760>), (23, <module.biscuit.Biscuit object at 0x000001C73F629700>), (25, <module.biscuit.Biscuit object at 0x000001C73F6296A0>), (30, <module.biscuit.Biscuit object at 0x000001C73F629700>), (38, <module.biscuit.Biscuit object at 0x000001C73F6296A0>), (46, <module.biscuit.Biscuit object at 0x000001C73F6296A0>), (48, <module.biscuit.Biscuit object at 0x000001C73F6297C0>), (52, <module.biscuit.Biscuit object at 0x000001C73F629700>), (56, <module.biscuit.Biscuit object at 0x000001C73F629760>), (61, <module.biscuit.Biscuit object at 0x000001C73F629760>), (63, <module.biscuit.Biscuit object at 0x000001C73F6296A0>), (67, <module.biscuit.Biscuit object at 0x000001C73F629760>), (69, <module.biscuit.Biscuit object at 0x000001C73F629760>), (70, <module.biscuit.Biscuit object at 0x000001C73F6297C0>), (75, <module.biscuit.Biscuit object at 0x000001C73F6296A0>), (77, <module.biscuit.Biscuit object at 0x000001C73F629760>), (82, <module.biscuit.Biscuit object at 0x000001C73F629700>), (86, <module.biscuit.Biscuit object at 0x000001C73F6297C0>), (94, <module.biscuit.Biscuit object at 0x000001C73F6297C0>), (99, <module.biscuit.Biscuit object at 0x000001C73F629700>), (103, <module.biscuit.Biscuit object at 0x000001C73F6297C0>), (108, <module.biscuit.Biscuit object at 0x000001C73F629700>), (109, None), (114, <module.biscuit.Biscuit object at 0x000001C73F6296A0>), (115, <module.biscuit.Biscuit object at 0x000001C73F629700>), (120, <module.biscuit.Biscuit object at 0x000001C73F629700>), (128, <module.biscuit.Biscuit object at 0x000001C73F6296A0>), (129, <module.biscuit.Biscuit object at 0x000001C73F629700>), (137, <module.biscuit.Biscuit object at 0x000001C73F629700>), (138, <module.biscuit.Biscuit object at 0x000001C73F629700>), (142, <module.biscuit.Biscuit object at 0x000001C73F629700>), (146, <module.biscuit.Biscuit object at 0x000001C73F6297C0>), (150, <module.biscuit.Biscuit object at 0x000001C73F6296A0>), (154, <module.biscuit.Biscuit object at 0x000001C73F6296A0>), (162, <module.biscuit.Biscuit object at 0x000001C73F629700>), (166, None), (170, <module.biscuit.Biscuit object at 0x000001C73F629700>), (178, <module.biscuit.Biscuit object at 0x000001C73F6296A0>), (179, <module.biscuit.Biscuit object at 0x000001C73F629700>), (181, <module.biscuit.Biscuit object at 0x000001C73F6297C0>), (186, <module.biscuit.Biscuit object at 0x000001C73F629760>), (187, <module.biscuit.Biscuit object at 0x000001C73F6296A0>), (210, <module.biscuit.Biscuit object at 0x000001C73F6296A0>), (218, <module.biscuit.Biscuit object at 0x000001C73F629700>), (222, <module.biscuit.Biscuit object at 0x000001C73F6297C0>), (227, <module.biscuit.Biscuit object at 0x000001C73F629700>), (232, <module.biscuit.Biscuit object at 0x000001C73F6296A0>), (240, <module.biscuit.Biscuit object at 0x000001C73F629700>), (248, <module.biscuit.Biscuit object at 0x000001C73F6296A0>), (226, <module.biscuit.Biscuit object at 0x000001C73F6296A0>), (230, <module.biscuit.Biscuit object at 0x000001C73F629760>), (232, <module.biscuit.Biscuit object at 0x000001C73F6296A0>), (240, <module.biscuit.Biscuit object at 0x000001C73F6296A0>), (248, <module.biscuit.Biscuit object at 0x000001C73F6297C0>), (252, <module.biscuit.Biscuit object at 0x000001C73F6296A0>), (260, <module.biscuit.Biscuit object at 0x000001C73F629760>), (235, <module.biscuit.Biscuit object at 0x000001C73F6296A0>), (240, <module.biscuit.Biscuit object at 0x000001C73F6297C0>), (245, <module.biscuit.Biscuit object at 0x000001C73F6297C0>), (253, <module.biscuit.Biscuit object at 0x000001C73F6296A0>), (261, <module.biscuit.Biscuit object at 0x000001C73F6297C0>), (263, <module.biscuit.Biscuit object at 0x000001C73F629700>), (267, <module.biscuit.Biscuit object at 0x000001C73F6297C0>), (275, <module.biscuit.Biscuit object at 0x000001C73F629760>), (277, <module.biscuit.Biscuit object at 0x000001C73F629700>), (281, <module.biscuit.Biscuit object at 0x000001C73F629760>), (283, <module.biscuit.Biscuit object at 0x000001C73F6296A0>), (291, <module.biscuit.Biscuit object at 0x000001C73F6296A0>), (293, <module.biscuit.Biscuit object at 0x000001C73F629760>), (295, <module.biscuit.Biscuit object at 0x000001C73F6296A0>), (297, <module.biscuit.Biscuit object at 0x000001C73F6297C0>), (298, <module.biscuit.Biscuit object at 0x000001C73F6296A0>), (300, <module.biscuit.Biscuit object at 0x000001C73F629760>), (301, <module.biscuit.Biscuit object at 0x000001C73F6296A0>), (305, None), (306, None), (307, <module.biscuit.Biscuit object at 0x000001C73F6297C0>), (312, <module.biscuit.Biscuit object at 0x000001C73F629700>), (313, <module.biscuit.Biscuit object at 0x000001C73F629700>), (318, <module.biscuit.Biscuit object at 0x000001C73F6296A0>), (320, <module.biscuit.Biscuit object at 0x000001C73F6296A0>), (325, <module.biscuit.Biscuit object at 0x000001C73F6296A0>), (333, <module.biscuit.Biscuit object at 0x000001C73F6296A0>), (329, <module.biscuit.Biscuit object at 0x000001C73F629700>), (337, <module.biscuit.Biscuit object at 0x000001C73F6297C0>), (341, <module.biscuit.Biscuit object at 0x000001C73F6297C0>), (349, <module.biscuit.Biscuit object at 0x000001C73F6297C0>), (351, <module.biscuit.Biscuit object at 0x000001C73F6297C0>), (359, <module.biscuit.Biscuit object at 0x000001C73F6297C0>), (364, None), (365, <module.biscuit.Biscuit object at 0x000001C73F6296A0>), (373, <module.biscuit.Biscuit object at 0x000001C73F6296A0>), (381, None), (382, <module.biscuit.Biscuit object at 0x000001C73F629760>), (384, <module.biscuit.Biscuit object at 0x000001C73F629700>), (388, <module.biscuit.Biscuit object at 0x000001C73F6297C0>), (393, <module.biscuit.Biscuit object at 0x000001C73F6297C0>), (397, <module.biscuit.Biscuit object at 0x000001C73F6297C0>), (402, None), (406, <module.biscuit.Biscuit object at 0x000001C73F629700>), (410, <module.biscuit.Biscuit object at 0x000001C73F629760>), (412, <module.biscuit.Biscuit object at 0x000001C73F6297C0>), (413, <module.biscuit.Biscuit object at 0x000001C73F6296A0>), (421, <module.biscuit.Biscuit object at 0x000001C73F6297C0>), (435, <module.biscuit.Biscuit object at 0x000001C73F6297C0>), (433, <module.biscuit.Biscuit object at 0x000001C73F6296A0>), (434, <module.biscuit.Biscuit object at 0x000001C73F6297C0>), (428, None), (440, <module.biscuit.Biscuit object at 0x000001C73F629700>), (431, <module.biscuit.Biscuit object at 0x000001C73F629760>), (445, <module.biscuit.Biscuit object at 0x000001C73F6296A0>), (435, <module.biscuit.Biscuit object at 0x000001C73F629700>), (439, <module.biscuit.Biscuit object at 0x000001C73F629760>), (441, <module.biscuit.Biscuit object at 0x000001C73F629760>), (443, <module.biscuit.Biscuit object at 0x000001C73F629700>), (447, None), (448, <module.biscuit.Biscuit object at 0x000001C73F6296A0>), (456, <module.biscuit.Biscuit object at 0x000001C73F6297C0>), (461, <module.biscuit.Biscuit object at 0x000001C73F6296A0>), (469, None), (471, <module.biscuit.Biscuit object at 0x000001C73F629760>), (473, <module.biscuit.Biscuit object at 0x000001C73F629700>), (481, <module.biscuit.Biscuit object at 0x000001C73F6296A0>), (489, <module.biscuit.Biscuit object at 0x000001C73F6297C0>)]\n",
      "Maximum value: 896\n"
     ]
    }
   ],
   "source": [
    "# Example usage\n",
    "\n",
    "roll = Roll(df_defect)\n",
    "ga = GeneticAlgorithm(roll, list_biscuit, population_size=50, generations=100, mutation_rate=0.01)\n",
    "best_solution, max_value = ga.run()\n",
    "print(\"Best solution:\", best_solution)\n",
    "print(\"Maximum value:\", max_value)\n"
   ]
  }
 ],
 "metadata": {
  "kernelspec": {
   "display_name": "base",
   "language": "python",
   "name": "python3"
  },
  "language_info": {
   "codemirror_mode": {
    "name": "ipython",
    "version": 3
   },
   "file_extension": ".py",
   "mimetype": "text/x-python",
   "name": "python",
   "nbconvert_exporter": "python",
   "pygments_lexer": "ipython3",
   "version": "3.9.13"
  }
 },
 "nbformat": 4,
 "nbformat_minor": 2
}
